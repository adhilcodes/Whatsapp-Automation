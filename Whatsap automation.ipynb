{
 "cells": [
  {
   "cell_type": "code",
   "execution_count": null,
   "metadata": {},
   "outputs": [],
   "source": [
    "from time import sleep\n",
    "from selenium.webdriver.common.by import By\n",
    "from selenium import webdriver\n",
    "from selenium.webdriver.common.keys import Keys\n",
    "from selenium.webdriver.support import expected_conditions as EC\n",
    "from selenium.common.exceptions import TimeoutException\n",
    "from selenium.webdriver.support.ui import WebDriverWait\n",
    "import socket\n",
    "import pandas as pd"
   ]
  },
  {
   "cell_type": "code",
   "execution_count": null,
   "metadata": {},
   "outputs": [],
   "source": [
    "# message you want to send\n",
    "message_text = \" message you want to send \"\n",
    "# no. of time you want the message to be send\n",
    "no_of_message = 1\n"
   ]
  },
  {
   "cell_type": "code",
   "execution_count": null,
   "metadata": {},
   "outputs": [],
   "source": [
    "#list containing mobile numbers\n",
    "moblie_no_list = []\n",
    "\n",
    "df = pd.read_csv(\" location of csv file \")\n",
    "for i in df[' name of column which contains mombile no. with country code ']\n",
    "i.append(moblie_no_list)\n"
   ]
  },
  {
   "cell_type": "code",
   "execution_count": null,
   "metadata": {},
   "outputs": [],
   "source": [
    "def element_presence(by, xpath, time):\n",
    "\n",
    "   \n",
    "\n",
    "    element_present = EC.presence_of_element_located((By.XPATH, xpath))\n",
    "    WebDriverWait(driver, time).until(element_present)\n",
    "\n",
    "def is_connected():\n",
    "\n",
    "   \n",
    "    try:\n",
    "        # connect to the host -- tells us if the host is actually reachable\n",
    "        socket.create_connection((\"www.google.com\", 80))\n",
    "        return True\n",
    "    except BaseException:\n",
    "        is_connected()"
   ]
  },
  {
   "cell_type": "code",
   "execution_count": null,
   "metadata": {},
   "outputs": [],
   "source": [
    "# wait time to scan the code in second\n",
    "\n",
    "driver = webdriver.Chrome(\" location of chromedriver.exe in your PC\")\n",
    "driver.get(\"http://web.whatsapp.com\")\n",
    "sleep(10)"
   ]
  },
  {
   "cell_type": "code",
   "execution_count": null,
   "metadata": {},
   "outputs": [],
   "source": [
    "    driver.get(\n",
    "        \"https://web.whatsapp.com/send?phone={}&source=&data=#\".format(phone_no))\n",
    "\n",
    "    try:\n",
    "        driver.switch_to_alert().accept()\n",
    "\n",
    "    except Exception as e:\n",
    "        pass\n",
    "\n",
    "    try:\n",
    "        element_presence(\n",
    "            By.XPATH,\n",
    "            '//*[@id=\"main\"]/footer/div[1]/div[2]/div/div[2]',\n",
    "            30)\n",
    "        txt_box = driver.find_element(\n",
    "            By.XPATH, '//*[@id=\"main\"]/footer/div[1]/div[2]/div/div[2]')\n",
    "        global no_of_message\n",
    "        for x in range(no_of_message):\n",
    "\n",
    "            txt_box.send_keys(text)\n",
    "            txt_box.send_keys(\"\\n\")\n",
    "\n",
    "    except Exception as e:\n",
    "        print(\"invailid phone no :\" + str(phone_no))"
   ]
  },
  {
   "cell_type": "code",
   "execution_count": null,
   "metadata": {},
   "outputs": [],
   "source": [
    "def send_whatsapp_msg(phone_no, text):\n",
    "\n",
    "\n",
    "def main():\n",
    "\n",
    "    \n",
    "\n",
    "    for moblie_no in moblie_no_list:\n",
    "        try:\n",
    "            send_whatsapp_msg(moblie_no, message_text)\n",
    "\n",
    "        except Exception as e:\n",
    "\n",
    "            sleep(10)\n",
    "            is_connected()\n",
    "\n",
    "\n",
    "\n",
    "if __name__ == '__main__':\n",
    "    main()"
   ]
  }
 ],
 "metadata": {
  "kernelspec": {
   "display_name": "Python 3",
   "language": "python",
   "name": "python3"
  },
  "language_info": {
   "codemirror_mode": {
    "name": "ipython",
    "version": 3
   },
   "file_extension": ".py",
   "mimetype": "text/x-python",
   "name": "python",
   "nbconvert_exporter": "python",
   "pygments_lexer": "ipython3",
   "version": "3.8.3"
  }
 },
 "nbformat": 4,
 "nbformat_minor": 4
}
